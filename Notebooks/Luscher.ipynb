{
 "metadata": {
  "language_info": {
   "codemirror_mode": {
    "name": "ipython",
    "version": 3
   },
   "file_extension": ".py",
   "mimetype": "text/x-python",
   "name": "python",
   "nbconvert_exporter": "python",
   "pygments_lexer": "ipython3",
   "version": "3.8.5"
  },
  "orig_nbformat": 4,
  "kernelspec": {
   "name": "python3",
   "display_name": "Python 3.8.5 64-bit ('base': conda)"
  },
  "interpreter": {
   "hash": "6a512afd2cf06d005e3b146be5918a48431089f36ed8d0ac0c499cf62ad13792"
  }
 },
 "nbformat": 4,
 "nbformat_minor": 2,
 "cells": [
  {
   "cell_type": "code",
   "execution_count": 2,
   "metadata": {},
   "outputs": [],
   "source": [
    "import itertools\n",
    "import math as m\n",
    "import numpy as np\n",
    "from scipy import special as s #special.erfi\n",
    "import matplotlib.pyplot as plt\n",
    "import cmath as c\n",
    "import time\n",
    "from scipy import optimize"
   ]
  },
  {
   "cell_type": "code",
   "execution_count": 4,
   "metadata": {},
   "outputs": [],
   "source": [
    "def mySqrt( z ):\n",
    "   return 1j * c.sqrt( -z )\n",
    "\n",
    "def dot(A, B):\n",
    "   return np.dot(A,B)\n",
    "\n",
    "def generateIntList( nShell ):\n",
    "    intList = []\n",
    "    rawList = np.array(np.arange(-nShell,nShell+1))\n",
    "    for i in itertools.product(rawList,rawList,rawList):\n",
    "        tmpList = np.array(i)\n",
    "        if ( np.dot(tmpList,tmpList) <= nShell*nShell ):\n",
    "            intList.append(tmpList)\n",
    "\n",
    "    return np.asarray(intList)\n",
    "\n",
    "def unit_vector( A ):\n",
    "    if( all( A==0 ) ):\n",
    "        return 0.0\n",
    "    else:\n",
    "        return A / np.sqrt( np.dot(A,A) )\n",
    "\n",
    "def multiply( A, B ):\n",
    "   nA = len(A)\n",
    "   return A.reshape(nA,1) * np.tile( B, (nA,1) )"
   ]
  },
  {
   "cell_type": "code",
   "execution_count": null,
   "metadata": {},
   "outputs": [],
   "source": []
  }
 ]
}