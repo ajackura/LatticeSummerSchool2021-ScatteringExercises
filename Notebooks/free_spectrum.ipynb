{
 "metadata": {
  "language_info": {
   "codemirror_mode": {
    "name": "ipython",
    "version": 3
   },
   "file_extension": ".py",
   "mimetype": "text/x-python",
   "name": "python",
   "nbconvert_exporter": "python",
   "pygments_lexer": "ipython3",
   "version": "3.7.5"
  },
  "orig_nbformat": 2,
  "kernelspec": {
   "name": "python375jvsc74a57bd073be0dffc9ddb7543f0e1759fb9f1e44064c10d46fb6fdc59ff487bc5f552366",
   "display_name": "Python 3.7.5 64-bit ('python3': conda)"
  }
 },
 "nbformat": 4,
 "nbformat_minor": 2,
 "cells": [
  {
   "cell_type": "code",
   "execution_count": null,
   "metadata": {},
   "outputs": [],
   "source": []
  },
  {
   "cell_type": "code",
   "execution_count": 1,
   "metadata": {},
   "outputs": [
    {
     "output_type": "stream",
     "name": "stderr",
     "text": [
      "ipykernel_launcher:5: DeprecationWarning: numpy.core.umath_tests is an internal NumPy module and should not be imported. It will be removed in a future NumPy release.\n"
     ]
    }
   ],
   "source": [
    "import itertools\n",
    "import math as m\n",
    "import numpy as np\n",
    "import matplotlib.pyplot as plt\n",
    "from numpy.core.umath_tests import inner1d"
   ]
  },
  {
   "cell_type": "code",
   "execution_count": 17,
   "metadata": {},
   "outputs": [],
   "source": [
    "twoPi = 2.0 * m.pi\n",
    "\n",
    "def free_spectrum( m1_sq, m2_sq, n, nP ):\n",
    "    energy1 = np.sqrt( m1_sq + inner1d(n,n) )\n",
    "    energy2 = np.sqrt( m2_sq + inner1d(nP-n,nP-n) )\n",
    "    return energy1 + energy2\n",
    "\n",
    "def generate_free_spectrum( mL, mRatio, nP, EcmMax ):\n",
    "    m1 = mL / twoPi\n",
    "    m2 = m1 * mRatio\n",
    "    m1_sq = m1**2\n",
    "    m2_sq = m2**2\n",
    "    nMax = 3\n",
    "    Energies = []\n",
    "    intList = np.array(np.arange(-nMax,nMax+1))\n",
    "    for i in itertools.product(intList,intList,intList):\n",
    "        n = np.array(i)\n",
    "        En = free_spectrum(m1_sq, m2_sq, n, nP)\n",
    "        Ecm = np.sqrt( En**2 - np.dot(nP,nP) )\n",
    "        Ecm = 2.0 * m.pi * Ecm / mL\n",
    "        Ecm = np.round( Ecm, 6 )\n",
    "        if Ecm not in Energies:\n",
    "            if Ecm < EcmMax:\n",
    "                Energies.append(Ecm)\n",
    "    Energies.sort()\n",
    "    return Energies"
   ]
  },
  {
   "cell_type": "code",
   "execution_count": 52,
   "metadata": {
    "tags": []
   },
   "outputs": [
    {
     "output_type": "stream",
     "name": "stdout",
     "text": [
      "[list([2.0]) list([2.0]) list([2.0]) list([2.0]) list([2.0]) list([2.0])\n list([2.0]) list([2.0]) list([2.0, 4.913456]) list([2.0, 4.772514])\n list([2.0, 4.641763]) list([2.0, 4.520202]) list([2.0, 4.406956])\n list([2.0, 4.301255]) list([2.0, 4.202422]) list([2.0, 4.109855])\n list([2.0, 4.023021]) list([2.0, 3.941442]) list([2.0, 3.864693])\n list([2.0, 3.792391, 4.97639]) list([2.0, 3.724192, 4.87229])\n list([2.0, 3.659786, 4.773684]) list([2.0, 3.598892, 4.680176])\n list([2.0, 3.541256, 4.591403]) list([2.0, 3.486646, 4.507038])\n list([2.0, 3.434852, 4.426783]) list([2.0, 3.385681, 4.350365])\n list([2.0, 3.338959, 4.277534]) list([2.0, 3.294525, 4.208062, 4.955974])\n list([2.0, 3.252229, 4.141738, 4.871446])\n list([2.0, 3.211938, 4.078369, 4.790578])\n list([2.0, 3.173526, 4.017777, 4.713152])\n list([2.0, 3.136878, 3.959799, 4.638966])\n list([2.0, 3.101887, 3.904281, 4.567835])\n list([2.0, 3.068456, 3.851083, 4.499585])\n list([2.0, 3.036492, 3.800075, 4.434057, 4.9881])\n list([2.0, 3.005913, 3.751136, 4.371103, 4.913456])\n list([2.0, 2.976639, 3.704154, 4.310584, 4.841643])\n list([2.0, 2.948597, 3.659023, 4.252372, 4.772514])\n list([2.0, 2.92172, 3.615645, 4.196348, 4.705931])\n list([2.0, 2.895944, 3.573931, 4.142399, 4.641763])\n list([2.0, 2.871211, 3.533794, 4.090422, 4.579891])\n list([2.0, 2.847465, 3.495155, 4.040318, 4.520202, 4.953815])\n list([2.0, 2.824655, 3.457941, 3.991996, 4.46259, 4.888086])\n list([2.0, 2.802733, 3.42208, 3.94537, 4.406956, 4.82458])\n list([2.0, 2.781654, 3.387507, 3.90036, 4.353206, 4.763193])\n list([2.0, 2.761376, 3.354161, 3.85689, 4.301255, 4.703828])\n list([2.0, 2.741859, 3.321985, 3.814889, 4.25102, 4.646392])\n list([2.0, 2.723066, 3.290923, 3.77429, 4.202422, 4.5908, 4.948791])\n list([2.0, 2.704962, 3.260925, 3.73503, 4.15539, 4.536969, 4.888855])\n list([2.0, 2.687513, 3.231943, 3.697051, 4.109855, 4.484823, 4.830773])\n list([2.0, 2.67069, 3.203931, 3.660295, 4.065753, 4.43429, 4.774465])\n list([2.0, 2.654463, 3.176846, 3.62471, 4.023021, 4.385302, 4.719856])\n list([2.0, 2.638804, 3.150647, 3.590246, 3.981602, 4.337793, 4.666876])\n list([2.0, 2.623688, 3.125297, 3.556856, 3.941442, 4.291702, 4.615457])\n list([2.0, 2.609091, 3.100759, 3.524495, 3.902489, 4.246972, 4.565537])\n list([2.0, 2.594988, 3.076999, 3.49312, 3.864693, 4.203548, 4.517054])\n list([2.0, 2.581358, 3.053985, 3.462692, 3.828008, 4.161377, 4.469952])\n list([2.0, 2.568182, 3.031685, 3.433172, 3.792391, 4.120411, 4.424177, 4.97639])\n list([2.0, 2.555438, 3.010071, 3.404524, 3.757798, 4.080602, 4.379677, 4.923627])]\n"
     ]
    }
   ],
   "source": [
    "nP = np.array([0,0,0])\n",
    "Ecm_o_m_Max = 5.0\n",
    "mRatio = 1.0\n",
    "Ecm = []\n",
    "for mL in np.arange (2.0, 8.0, 0.1):\n",
    "   Ecm.append( generate_free_spectrum( mL, mRatio, nP, Ecm_o_m_Max ) )\n",
    "   #print( round(mL,6), \" \", *Ecm )\n",
    "mL = np.arange(2.0, 8.0, 0.1)\n",
    "Ecm = np.asarray(Ecm)\n",
    "Ecm.shape\n",
    "#mL.shape\n",
    "#Ecm[45]\n",
    "\n",
    "\n",
    "\n",
    "print( Ecm )\n",
    "\n",
    "#for Estar in Ecm.reshape(1,len(Ecm)).T:\n",
    "   # print(Estar)\n",
    "\n",
    "#plt.plot( mL, Ecm[:] )"
   ]
  },
  {
   "cell_type": "code",
   "execution_count": null,
   "metadata": {},
   "outputs": [],
   "source": []
  },
  {
   "cell_type": "code",
   "execution_count": null,
   "metadata": {},
   "outputs": [],
   "source": []
  }
 ]
}