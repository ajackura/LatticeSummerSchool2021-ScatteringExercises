{
 "cells": [
  {
   "cell_type": "markdown",
   "metadata": {},
   "source": [
    "Author - Andrew W. Jackura\n",
    "\n",
    "Email - ajackura@odu.edu / ajackura@jlab.org"
   ]
  },
  {
   "cell_type": "markdown",
   "metadata": {},
   "source": [
    "# Two Particles in a Box\n",
    "\n",
    "Let us now turn to two particles in a finite cubic volume with side length $L$. In lecture, it is discussed how we can map the discrete spectrum of the two particles to their infinite volume scattereing amplitude. In this notebook, we will explore this concept. We impose periodic boundary conditions, which leads to momentum quantization\n",
    "$$\n",
    "\\mathbf{p} = \\frac{2\\pi}{L} \\mathbf{n} \\, ,\n",
    "$$\n",
    "where $\\mathbf{n} = [n_{x},n_{y},n_{z}]$ with $n_{x}$, $n_{y}$, and $n_{z}$ being integers.\n",
    "\n",
    "A single particle will therefore have an energy\n",
    "$$\n",
    "E_n = \\sqrt{m^2 + \\mathbf{p}} = \\sqrt{m^2 + \\left(\\frac{2\\pi}{L}\\right)^2 \\mathbf{n}^2} \\, .\n",
    "$$\n",
    "For a two-particle system, we find that the total momentum of the system is quantized in a similar fashion. If the particles are free, we also find that each momentum follows the same quantization rule. When the system interacts however, we find that the spectrum shifts by an amount which can be related to the scattering process. This relation is the *Luescher quantization condition*, \n",
    "$$\n",
    "\\mathrm{det}\\left[ \\mathcal{M}^{-1}(s) + F(E,\\mathbf{P},L)\\right] = 0 \\, ,\n",
    "$$\n",
    "where $\\mathcal{M}$ is the scattering amplitude and $F$ is a finite volume function encoding the geometry of the box. Specifics of this condition will are discussed in the lecture, and in the details below.\n",
    "\n",
    "#### References\n",
    "\n",
    "The following papers are milestones in the development of the finite-volume formalism \n",
    "* Original Luescher paper (stable particles): <https://inspirehep.net/literature/222569> - Luescher (1985)\n",
    "* Orginal Luescher paper (scattering): <https://inspirehep.net/literature/231480> - Luescher (1986)\n",
    "* Non-rest frames: <https://inspirehep.net/literature/393935> - Rummukainen & Gottlieb (1995)\n",
    "* Field theory approach: <https://inspirehep.net/literature/687104> - Kim, Sharpe, & Sachrajda (2005)\n",
    "* Coupled-channels: <https://inspirehep.net/literature/1103067> - Hansen & Sharpe (2012)\n",
    "* Arbitrary number of channels and spin: <https://inspirehep.net/literature/1277082> - Briceno (2014)\n",
    "\n",
    "(Note: There are many papers on this subject, apologies if I do not refer to a specfic one.)\n",
    "\n",
    "There is an excellent review on extracting amplitudes from lattice QCD\n",
    "* *Scattering processes and resonances from lattice QCD*: <https://inspirehep.net/literature/1606083> - Briceno, Dudek, & Young (2018)\n"
   ]
  },
  {
   "cell_type": "code",
   "execution_count": 1,
   "metadata": {},
   "outputs": [
    {
     "name": "stderr",
     "output_type": "stream",
     "text": [
      "<ipython-input-1-45a324f9f855>:11: DeprecationWarning: numpy.core.umath_tests is an internal NumPy module and should not be imported. It will be removed in a future NumPy release.\n",
      "  from numpy.core.umath_tests import inner1d  # for fancy dot product with list\n"
     ]
    }
   ],
   "source": [
    "'''\n",
    "Importing useful libraries\n",
    "'''\n",
    "import cmath as cm                          # math library (complex)\n",
    "import math as ma                           # math library\n",
    "import numpy as np                          # basic functions, linear algebra, etc.\n",
    "import scipy.special as sp                  # special functions\n",
    "import numpy.random as rn                   # random numbers\n",
    "import matplotlib.pyplot as plt             # plotting library\n",
    "import itertools                            # for creating tuple list\n",
    "from numpy.core.umath_tests import inner1d  # for fancy dot product with list\n",
    "from scipy import optimize                  # numerical root finding\n",
    "from scipy import integrate                 # library for integration\n",
    "from mpl_toolkits import mplot3d            # for 3d plotting \n",
    "from matplotlib.colors import hsv_to_rgb    # convert the color from HSV coordinates to RGB coordinates\n",
    "from colorsys import hls_to_rgb             # convert the color from HLS coordinates to RGB coordinates    "
   ]
  },
  {
   "cell_type": "markdown",
   "metadata": {},
   "source": [
    "## Free Two-particle Spectrum\n",
    "\n",
    "The total energy of a two particle system in a box moving with momentum $\\mathbf{P}$ is given by the usual energy dispersion relation\n",
    "$$\n",
    "E = \\sqrt{m^2 + \\mathbf{p}^2} + \\sqrt{m^2 + (\\mathbf{P}-\\mathbf{p})^2} \\, ,\n",
    "$$\n",
    "where $m$ is the mass of the individual particles, $\\mathbf{p}$ is the momentum of particle 1, and $\\mathbf{P}-\\mathbf{p}$ is the momentum of particle 2. Recall from scattering theory that the total center-of-momentum (CM) frame energy $E^{\\star}$ is defined as\n",
    "$$\n",
    "s = E^{\\star\\,2} = E^2 - \\mathbf{P}^2 \\, ,\n",
    "$$\n",
    "where $s$ is the Mandelstam invariant.\n",
    "\n",
    "In a finite volume, all free momenta are quantized, $\\mathbf{p} = 2\\pi \\mathbf{n} / L$ and $\\mathbf{P} = 2\\pi \\mathbf{n}_P / L$ where $\\mathbf{n},\\mathbf{n}_P \\in \\mathbb{Z}^3$. Substituting these into the dispersion relation we get\n",
    "$$\n",
    "E = \\sqrt{m^2 + \\left(\\frac{2\\pi}{L} \\right)^2 \\mathbf{n}^2} + \\sqrt{m^2 + \\left(\\frac{2\\pi}{L} \\right)^2(\\mathbf{n}_P-\\mathbf{n})^2} \\, ,\n",
    "$$\n",
    "with the CM frame energy being \n",
    "$$\n",
    "E^{\\star\\,2} = E^2 - \\left(\\frac{2\\pi}{L} \\right)^2 \\mathbf{n}_P^2 \\, .\n",
    "$$\n",
    "\n",
    "\n",
    "For a given $\\mathbf{n}_P$, we can find the spectrum of two free particles by cycling through all possible $\\mathbf{n}$.\n",
    "\n",
    "<!---\n",
    "It is useful to express our quantities in terms of a dimensionless mass \n",
    "$$\n",
    "\\bar{m} \\equiv \\frac{mL}{2\\pi}\\, \n",
    "$$\n",
    "Then, the dispersion relation is simply $E/m  = \\sqrt{1 + \\mathbf{n}^2 / \\bar{m}^2} + \\sqrt{1+ (\\mathbf{P}-\\mathbf{p})^2/ \\bar{m}^2}$. Other dimensionless *barred* variables can be defined similarly, e.g. $\\bar{E} = EL / 2\\pi$. Note that this allows such conversions $E/m = \\bar{E}/\\bar{m}$.\n",
    "--->\n",
    "\n",
    "### Exercises:\n",
    "\n",
    "1. Enumerate the different momenta (in units of $2\\pi / L$) allowed for $\\mathbf{n}^2 \\in \\{0,1,2,3,4,5,6,7,8\\}$\n",
    "\n",
    "2. Take the limit of $E/m$ as $mL \\to \\infty$\n",
    "\n",
    "2. Plot the non-interacting spectrum in terms of $E^{\\star}/m$ in the rest frame $\\mathbf{n}_P = [000]$ as a function of $mL$.\n",
    "\n",
    "3. Repeat (3) for the frames $\\mathbf{n}_P = [001], [011], [111], [002]$.\n"
   ]
  },
  {
   "cell_type": "code",
   "execution_count": 2,
   "metadata": {},
   "outputs": [
    {
     "data": {
      "image/png": "[encoded data removed]",
      "text/plain": [
       "<Figure size 432x288 with 1 Axes>"
      ]
     },
     "metadata": {
      "needs_background": "light"
     },
     "output_type": "display_data"
    },
    {
     "data": {
      "text/plain": [
       "<Figure size 200x100 with 0 Axes>"
      ]
     },
     "metadata": {},
     "output_type": "display_data"
    }
   ],
   "source": [
    "'''\n",
    "Free two-particle spectrum\n",
    "'''\n",
    "\n",
    "# convenient const\n",
    "twoPi = 2.0 * np.pi\n",
    "\n",
    "# unit mass\n",
    "m = 1.0\n",
    "m_sq = m * m \n",
    "\n",
    "# free two-particle energy \n",
    "# n, nP are integer tuples\n",
    "# L is in units of mass\n",
    "def free_spectrum( L, n, nP ):\n",
    "    p1_sq = ( twoPi / L )**2 * np.inner(n,n)        # (2*pi/L)^2 * n^2\n",
    "    p2_sq = ( twoPi / L )**2 * np.inner(nP-n,nP-n)  # (2*pi/L)^2 * (nP - n)^2\n",
    "    energy1 = np.sqrt( m_sq + p1_sq )\n",
    "    energy2 = np.sqrt( m_sq + p2_sq )\n",
    "    return energy1 + energy2\n",
    "\n",
    "# generate free spectrum for given L (units of mass), nP, and max energy Ecm_max (units of mass)\n",
    "def generate_free_spectrum( L, nP, Ecm_max ):\n",
    "    P_sq = ( twoPi / L )**2 * np.dot(nP,nP)         # (2*pi/L)^2 * nP^2\n",
    "    n_max = 3.0                                     # max integer for particle momentum\n",
    "    Energies = []\n",
    "    intList = np.array(np.arange(-n_max,n_max+1))\n",
    "    for i in itertools.product(intList,intList,intList):\n",
    "        n = np.array(i)\n",
    "        En = free_spectrum(L, n, nP)    # moving frame energy\n",
    "        Ecm = np.sqrt( En**2 - P_sq )   # convert to CM frame\n",
    "        Ecm = np.round( Ecm, 10 )\n",
    "        if Ecm not in Energies:\n",
    "            if Ecm < Ecm_max:\n",
    "                Energies.append(Ecm)\n",
    "    Energies.sort()\n",
    "    return Energies\n",
    "\n",
    "# collect free spectra for various L in L_range array into an array of all Ecm and L\n",
    "def get_spectrum_data( nP, Ecm_max, L_range ):\n",
    "    data=[]\n",
    "    level_data = []\n",
    "    return_data = []\n",
    "    max_level, level, L_start = 0, 0, 0\n",
    "    # grab all energies for given L\n",
    "    for L in L_range:\n",
    "        Ecm = generate_free_spectrum( L, nP, Ecm_max )\n",
    "        if len(Ecm) > max_level:\n",
    "            max_level = len(Ecm)\n",
    "        data.append(Ecm)\n",
    "\n",
    "    # combine L_list with energies\n",
    "    for _ in range(max_level):\n",
    "        for i in data:\n",
    "            if len(i) >= level+1:\n",
    "                level_data.append(i[level])\n",
    "            else:\n",
    "                L_start += 1\n",
    "        return_data.append([L_range[L_start:],level_data.copy()])\n",
    "        level += 1\n",
    "        L_start = 0\n",
    "        level_data.clear()\n",
    "\n",
    "    return return_data\n",
    "\n",
    "# routine to plot spectrum as a function of nP and max Ecm\n",
    "def plot_free_spectrum( nP ):\n",
    "    L_min, L_max, L_step = 2.0, 8.0, 0.1    # / m\n",
    "    L_list = np.arange(L_min,L_max,L_step)\n",
    "    spectrum = get_spectrum_data(nP,Ecm_max,L_list)\n",
    "    plt.axhline(y=2.0*m, color='gray', linestyle='--') # threshold energy\n",
    "    for spec in spectrum:\n",
    "        plt.plot(spec[0],spec[1],color=\"blue\",linewidth=2) # plot each energy level (spec[1]) as a function of L (spec[0])    \n",
    "    plt.title(str(nP))\n",
    "    plt.xlabel(r'$mL$',size=15) \n",
    "    plt.ylabel(r'$E^{\\star}/m$',size=15)\n",
    "    plt.figure(figsize=(2,1), dpi= 100, facecolor='w', edgecolor='k')\n",
    "\n",
    "# zero total momentum\n",
    "nP = [0,0,0]\n",
    "\n",
    "# max CM energy\n",
    "Ecm_max = 5.0 # m\n",
    "\n",
    "# make plot\n",
    "plot_free_spectrum(nP)"
   ]
  },
  {
   "cell_type": "markdown",
   "metadata": {},
   "source": [
    "## Finite-volume function\n",
    "\n",
    "In connecting finite-volume spectra to scattering observables, we naturally encounter a finite-volume function, which we denote as $F(E,\\mathbf{P},L)$, which is known colloquially as the Luescher Zeta function (*In fact, our finite-volume function is slightly different from the original Luescher derivation, but they are trivially related through some pre-factors, both encode the same information.*).\n",
    "This function characterizes the finite-volume distortions an interacting system experiences.\n",
    "\n",
    "For our purposes, we focus on identical particles in an $S$ wave, and defined the finite-volume function as\n",
    "$$\n",
    "F(E,\\mathbf{P},L) = \\xi \\Bigg[\\frac{1}{L^3} \\sum_{\\mathbf{k}\\in (2\\pi/L)\\mathbb{Z}^2} - \\int\\!\\frac{\\mathrm{d}^3\\mathbf{k}}{(2\\pi)^3}\\Bigg] \\frac{1}{2\\omega_k} \\frac{1}{E^{\\star}(E^{\\star} - 2\\omega_{k}+i\\epsilon)} \\, .\n",
    "$$\n",
    "As discussed in the lectures, we can simplify this function for numerical evaluation. We find the convenient form \n",
    "$$\n",
    "\\begin{align}\n",
    "F(E,\\mathbf{P},L) & = i\\rho + \\frac{\\xi}{2E^{\\star}} \\frac{1}{L^{3}} \\sum_{\\mathbf{k}} \\frac{\\omega_{k}^{\\star}}{\\omega_{k}} \\, \\frac{e^{-\\alpha(k^{\\star\\,2} - q^{\\star\\,2})}}{q^{\\star\\,2} - k^{\\star\\,2}} + \\frac{\\xi}{4\\pi^2 E^{\\star}}\\Big[ \\sqrt{\\frac{\\pi}{4\\alpha}} e^{\\alpha q^{\\star\\,2}} - \\frac{\\pi q^{\\star}}{2} \\mathrm{erfi}(\\sqrt{\\alpha q^{\\star\\,2}}) \\Big] \\, , \\\\[5pt]\n",
    "%\n",
    "& \\equiv i\\rho + F_{\\mathrm{pv}}(E,\\mathbf{P},L)\n",
    "\\end{align}\n",
    "$$\n",
    "where $\\rho$ and $q^{\\star}$ are as defined from our scattering theory discussion, and we have introduced the $\\alpha$ regulation to tame the UV divergence, assuming that formally we must take the limit as $\\alpha \\to 0$. Practically, we find we only need a small value to find sufficient convergent to our desired precision. It is also convenient to introduce a dimensionless $\\widetilde{\\alpha} = (2\\pi / L)^2 \\alpha$.\n",
    "\n",
    "### Exercises\n",
    "\n",
    "1. Derive $F(E,\\mathbf{P},L)$ using the all-orders approach discussed in the lectures. Additionally, simplify the result to the one useful for numerical computation\n",
    "\n",
    "2. What are the dimensions of $F$?\n",
    "\n",
    "3. For a system at total momentum $\\mathbf{P} = \\mathbf{0}$, plot $F$ as a function of $E^{\\star}/m$, $(Lq^{\\star}/2\\pi)$ for fixed $mL = 4, 5$, and 6.\n",
    "\n",
    "4. Repeat (3) for moving frame systems, $\\mathbf{n}_P = [001], [011], [111], [002]$."
   ]
  },
  {
   "cell_type": "code",
   "execution_count": 3,
   "metadata": {},
   "outputs": [],
   "source": [
    "'''\n",
    "Finite-volume function\n",
    "'''\n",
    "\n",
    "# Let us work with ideentical particles throughout\n",
    "xi = 0.5 # symmetry factor\n",
    "\n",
    "# sqrt with branch cut aligned on positive real axis\n",
    "def mySqrt(z):\n",
    "   return 1j * np.sqrt( -z )\n",
    "\n",
    "# CM momentum\n",
    "def q_cm(s):\n",
    "    return 0.5 * mySqrt( s - 4.0 * m**2 )\n",
    "\n",
    "# Phase space factor\n",
    "def phase_space(s):\n",
    "    return xi * q_cm(s) / ( 8.0 * np.pi * np.sqrt(s) )\n",
    "\n",
    "# inner product for two list (native)\n",
    "def dot(A, B):\n",
    "   return np.dot(A,B) #inner1d(A,B) #np.sum( A * B, axis=1) \n",
    "\n",
    "# Function to generate 3-tuple \"n = (nx,ny,nz)\" list \n",
    "# subject to the constraint nx^2 + ny^2 + nz^2 <= nShell^2,\n",
    "# where \"nShell\" indicates the number of shells\n",
    "def generateIntList( nShell ):\n",
    "    intList = []\n",
    "    rawList = np.array(np.arange(-nShell,nShell+1))\n",
    "    for i in itertools.product(rawList,rawList,rawList):\n",
    "        tmpList = np.array(i)\n",
    "        if ( np.dot(tmpList,tmpList) <= nShell*nShell ):\n",
    "            intList.append(tmpList)\n",
    "\n",
    "    return np.asarray(intList)\n",
    "\n",
    "# returns the unit vector of a vector \"A\"\n",
    "def unit_vector( A ):\n",
    "    if( all( A==0 ) ):\n",
    "        return A\n",
    "    else:\n",
    "        return A / np.sqrt( np.dot(A,A) )\n",
    "\n",
    "# special multiply for array of arrays (A) and an array (B), used in the zeta function\n",
    "def multiply( A, B ):\n",
    "   nA = len(A)\n",
    "   return A.reshape(nA,1) * np.tile( B, (nA,1) )\n",
    "   ### First, reshape A array to 2d (1xnA), and then copy b vector nA time to make (nA x nB) array\n",
    "   ### alternatively, do (A.reshape(nA,1)).dot( B.reshape(1,3) ) \n",
    "\n",
    "# returns a Lorentz boosted four vector \"(A0,A)\" given some boost velocity \"beta\"\n",
    "def lorentzBoost( A0, A, beta ):\n",
    "    gamma = 1.0 / np.sqrt( 1.0 - np.dot(beta,beta) )\n",
    "    Apar  = multiply( A.dot( unit_vector(beta) ), unit_vector(beta) )\n",
    "    Aper  = A - Apar\n",
    "    A0_prime = gamma * ( A0 - A.dot( beta ) )\n",
    "    A_prime  = gamma * ( Apar - multiply( A0, beta ) ) + Aper\n",
    "    return A0_prime, A_prime\n",
    "\n",
    "\n",
    "# cutoff function (alpha input is dimensionless)\n",
    "def cutoff( qcm_sq, kcm_sq, alpha, L ):\n",
    "    alpha = (L / twoPi)**2 * alpha  # convert to dimensionfull units\n",
    "    return np.exp( -alpha * ( kcm_sq - qcm_sq ) )\n",
    "\n",
    "#\n",
    "# KSS Zeta function for ell = m_ell = 0, given \"qcm_sq\", total momentum \"nP\"\n",
    "# This function is in units of L / 2pi, e.g. m1 -> m1 * L / (2 * pi).\n",
    "#\n",
    "\n",
    "# Finite volume function F, given Ecm (units of mass), nP, alpha (dimensionless), and L (units of mass)\n",
    "# MUST call generateIntList first and use global intList from its output\n",
    "#\n",
    "# Note: We chose to have Ecm as input rather than E for convenience in plotting/ pole finding. Coding it the other way works too, \n",
    "# we are just saving ourselves a couple transformations which are not needed for our purposes.\n",
    "#\n",
    "def F_function( Ecm, nP, alpha, L ):\n",
    "    P = twoPi * nP / L                               # P = (2*pi/L)* nP\n",
    "    P_sq = np.dot(P,P)                              # P^2\n",
    "    E = np.sqrt( Ecm**2 + P_sq )                    # compute E given Ecm and P\n",
    "    s = Ecm**2\n",
    "    eps = 1e-16\n",
    "    qcm = q_cm(s+1j*eps)\n",
    "    qcm_sq = qcm**2\n",
    "    rho = phase_space(s+1j*eps)\n",
    "    beta = P/E                                      # boost velocity\n",
    "\n",
    "    k = (twoPi / L) * intList\n",
    "    omega = np.sqrt( m_sq + inner1d(k,k) )\n",
    "    omega_cm, k_cm = lorentzBoost( omega, k, beta )\n",
    "    tmp = cutoff( qcm_sq, inner1d(k_cm,k_cm), alpha, L ) * omega_cm / omega\n",
    "    tmp = tmp / ( qcm_sq - inner1d(k_cm,k_cm ) ) \n",
    "    sum0 = ( xi / (2.0 * Ecm * L**3) ) * np.sum( tmp )\n",
    "\n",
    "    alpha = (L / twoPi)**2 * alpha  # convert to dimensionfull units\n",
    "    z   = np.sqrt( alpha ) * qcm\n",
    "    integral = ( xi / (4.0 * np.pi**2 * Ecm )) * ( ( np.sqrt( 0.25 * np.pi / alpha ) ) * np.exp( alpha * qcm_sq ) - 0.5 * np.pi * qcm * sp.erfi( z ) )\n",
    "\n",
    "    return  1j * rho + sum0.real + integral # taking real part of sum to remove imaginary artifact at threshold\n"
   ]
  },
  {
   "cell_type": "code",
   "execution_count": 5,
   "metadata": {
    "tags": []
   },
   "outputs": [
    {
     "data": {
      "image/png": "[encoded data removed]",
      "text/plain": [
       "<Figure size 432x288 with 1 Axes>"
      ]
     },
     "metadata": {
      "needs_background": "light"
     },
     "output_type": "display_data"
    }
   ],
   "source": [
    "'''\n",
    "Making some plots of F\n",
    "'''\n",
    "\n",
    "# number of shells for sum, nshell^2 = nx^2 + ny^2 + nz^2\n",
    "nShell = 20\n",
    "\n",
    "# dimensionless alpha regulator\n",
    "alpha = 0.125   # can tune this more carefully to ensure convergence is what is desired. Here, 0.125 with nShell = 20 is sufficient\n",
    "\n",
    "# generating integer tuple\n",
    "intList = generateIntList( nShell )\n",
    "\n",
    "L = 10.0 # / m\n",
    "nP = np.array([0,0,0])\n",
    "\n",
    "# plot routine for F\n",
    "# Note: because of the way I coded the F function, I need to loop through the energies and append an array instead of passing and array. \n",
    "# If you find a better alternative for this code or the code above, please let me know.\n",
    "def plot_F(L, nP):\n",
    "    F_list = []\n",
    "    Ecm_o_m_start, Ecm_o_m_stop, Ecm_o_m_step = 1.5, 2.5, 0.005\n",
    "    Ecm_o_m_range = np.arange(Ecm_o_m_start, Ecm_o_m_stop, Ecm_o_m_step)\n",
    "    for Ecm_o_m in Ecm_o_m_range:\n",
    "        F_list.append(F_function( Ecm_o_m, nP, alpha, L ))\n",
    "    F = np.asarray(F_list)\n",
    "    plt.axhline(y=0, color='gray', linestyle='-') \n",
    "    plt.plot(Ecm_o_m_range, F.real, color='red',label=\"Real\")\n",
    "    plt.plot(Ecm_o_m_range, F.imag, color='blue',label=\"Imag\")\n",
    "    plt.xlabel(r'$E^{\\star}/m$',fontsize=15)\n",
    "    plt.ylabel(r'$F(E,\\mathbf{P},L)$',fontsize=15)\n",
    "    plt.legend(loc=\"upper right\")\n",
    "    plt.ylim(-0.05,0.05)\n",
    "\n",
    "plot_F(L,nP)"
   ]
  },
  {
   "cell_type": "markdown",
   "metadata": {},
   "source": [
    "## Connecting the finite-volume function to the spectrum\n",
    "\n",
    "One can show that in the absence of interactions, the spectrum of two particles can be determined by looking at\n",
    "$$\n",
    "F^{-1}(E_{\\mathfrak{n}},\\mathbf{P},L) = 0 \\, .\n",
    "$$\n",
    "Note that we can also find the spectrum by looking only at the principle value piece, $F_{\\mathrm{pv}}^{-1} = 0$, since the phase space factor does not exhibit the finite-volume pole behavior. One can of course look at the simultaneous zero of both the real and the imaginary part, which is often done for more complicated interacting systems where we cannot remove the imaginary part entirely.\n",
    "\n",
    "### Exercise:\n",
    "\n",
    "1. Find the spectrum of two non-interacting particles in their rest frame by solving $F^{-1} = 0$ for fixed $mL = 4, 5$, and 6\n",
    "\n",
    "2. Repeat (1) for moving frame systems, $\\mathbf{n}_P = [001], [011], [111], [002]$."
   ]
  },
  {
   "cell_type": "code",
   "execution_count": 6,
   "metadata": {},
   "outputs": [
    {
     "data": {
      "image/png": "[encoded data removed]",
      "text/plain": [
       "<Figure size 432x288 with 1 Axes>"
      ]
     },
     "metadata": {
      "needs_background": "light"
     },
     "output_type": "display_data"
    }
   ],
   "source": [
    "# first, take a look at F^{-1}\n",
    "\n",
    "# let's define a PV version (will be useful later)\n",
    "def Fpv_function( Ecm, nP, alpha, L ):\n",
    "    s = Ecm**2\n",
    "    eps = 1e-16\n",
    "    rho = phase_space(s+1j*eps)\n",
    "    return F_function( Ecm, nP, alpha, L ) - 1j * rho\n",
    "\n",
    "# plot inverse of Fpv\n",
    "def plot_Finv(L, nP):\n",
    "    Finv_list = []\n",
    "    Ecm_o_m_start, Ecm_o_m_stop, Ecm_o_m_step = 1.5, 2.5, 0.005\n",
    "    Ecm_o_m_range = np.arange(Ecm_o_m_start, Ecm_o_m_stop, Ecm_o_m_step)\n",
    "    for Ecm_o_m in Ecm_o_m_range:\n",
    "        Finv_list.append(1.0 / Fpv_function( Ecm_o_m, nP, alpha, L ))\n",
    "    Finv = np.asarray(Finv_list)\n",
    "    plt.axhline(y=0, color='gray', linestyle='-') \n",
    "    plt.plot(Ecm_o_m_range, Finv.real, color='red',label=\"Real\")\n",
    "    plt.plot(Ecm_o_m_range, Finv.imag, color='blue',label=\"Imag\")\n",
    "    plt.xlabel(r'$E^{\\star}/m$',fontsize=15)\n",
    "    plt.ylabel(r'$F_{\\mathrm{pv}}^{-1}(E,\\mathbf{P},L)$',fontsize=15)\n",
    "    plt.legend(loc=\"upper right\")\n",
    "    plt.ylim(-200,200)\n",
    "\n",
    "# make plot\n",
    "plot_Finv(L,nP)"
   ]
  },
  {
   "cell_type": "code",
   "execution_count": 7,
   "metadata": {},
   "outputs": [
    {
     "name": "stdout",
     "output_type": "stream",
     "text": [
      "looking for candidates\n",
      "found candidate near =  1.959999999999988\n",
      "found candidate near =  1.9999999999999871\n",
      "found candidate near =  2.1749999999999834\n",
      "found candidate near =  2.3599999999999794\n",
      "found candidate near =  2.5049999999999764\n",
      "found candidate near =  2.6749999999999727\n",
      " \n",
      "looking for roots\n",
      "found root at Ecm =  1.9999999999999871 with |F^{-1}| (Ecm_root) =  1.0302908492659097e-10\n",
      "found root at Ecm =  2.3620196240027935 with |F^{-1}| (Ecm_root) =  4.406072920968929e-13\n",
      "found root at Ecm =  2.6754949838018 with |F^{-1}| (Ecm_root) =  1.0403377036456286e-13\n"
     ]
    }
   ],
   "source": [
    "\n",
    "# steps through a kinematic region to look for roots\n",
    "# if a candidate is found, it is saved\n",
    "# once all candidates all found, it then uses the brent method to search for root\n",
    "def root_stepper( nP, alpha, L ):\n",
    "    Ecm_candidate = []\n",
    "    Ecm_spectrum = []\n",
    "    F_inv = lambda Ecm: 1.0 / Fpv_function( Ecm, nP, alpha, L ).real\n",
    "    Ecm_o_m_start, Ecm_o_m_stop, Ecm_o_m_step = 1.4, 2.7, 0.005              # May need to play around with step to ensure resolution is good\n",
    "    Ecm_o_m_range = np.arange(Ecm_o_m_start, Ecm_o_m_stop, Ecm_o_m_step)\n",
    "    print('looking for candidates')\n",
    "    for Ecm_o_m in Ecm_o_m_range:\n",
    "        a = Ecm_o_m\n",
    "        b = Ecm_o_m + Ecm_o_m_step\n",
    "        if ( F_inv(a) * F_inv(b) < 0 ):\n",
    "            print('found candidate near = ', a)\n",
    "            Ecm_candidate.append(a)\n",
    "\n",
    "    print(' ')\n",
    "    print('looking for roots')\n",
    "    tol = 1e-5  # tolerance parameter to check if zero of asymptote\n",
    "    for Ecm_o_m in Ecm_candidate:\n",
    "        Ecm_spec = optimize.brentq(F_inv, Ecm_o_m, Ecm_o_m+Ecm_o_m_step)\n",
    "        if ( np.abs(F_inv(Ecm_spec)) < tol ):\n",
    "            print('found root at Ecm = ', Ecm_spec, 'with |F^{-1}| (Ecm_root) = ', np.abs(F_inv(Ecm_spec)))\n",
    "            Ecm_spectrum.append(Ecm_spec)\n",
    "\n",
    "    return Ecm_spectrum\n",
    "\n",
    "# save roots found\n",
    "Ecm_from_F = root_stepper(nP,alpha,L)"
   ]
  },
  {
   "cell_type": "code",
   "execution_count": 9,
   "metadata": {},
   "outputs": [
    {
     "data": {
      "image/png": "[encoded data removed]",
      "text/plain": [
       "<Figure size 432x288 with 1 Axes>"
      ]
     },
     "metadata": {
      "needs_background": "light"
     },
     "output_type": "display_data"
    },
    {
     "data": {
      "text/plain": [
       "<Figure size 200x100 with 0 Axes>"
      ]
     },
     "metadata": {},
     "output_type": "display_data"
    }
   ],
   "source": [
    "# Let us check to make sure it matches from before\n",
    "def plot_free_spectrum_F( nP ):\n",
    "    L_min, L_max, L_step = 6.0, 12.0, 0.1    # / m\n",
    "    L_list = np.arange(L_min,L_max,L_step)\n",
    "    spectrum = get_spectrum_data(nP,Ecm_max,L_list)\n",
    "    plt.axhline(y=2.0*m, color='gray', linestyle='--') # threshold energy\n",
    "    for spec in spectrum:\n",
    "        plt.plot(spec[0],spec[1],color=\"blue\",linewidth=2) # plot each energy level (spec[1]) as a function of L (spec[0])    \n",
    "    plt.plot([L]*len(Ecm_from_F),Ecm_from_F,'ro')\n",
    "    plt.title(str(nP))\n",
    "    plt.xlabel(r'$mL$',size=15) \n",
    "    plt.ylabel(r'$E^{\\star}/m$',size=15)\n",
    "    plt.figure(figsize=(2,1), dpi= 100, facecolor='w', edgecolor='k')\n",
    "\n",
    "plot_free_spectrum_F( nP )"
   ]
  },
  {
   "cell_type": "markdown",
   "metadata": {},
   "source": [
    "## Luescher Quantization Condition\n",
    "\n",
    "If we now turn on interactions between particles, we found that the poles of the correlation matrix (which correspond to the energy spectrum), are fixed by the *Luescher quantization condition*\n",
    "$$\n",
    "\\mathrm{det}\\!\\left[ \\, \\mathcal{M}^{-1}(s_{\\mathfrak{n}}) + F(E_{\\mathfrak{n}},\\mathbf{P},L) \\, \\right] = 0 \\, ,\n",
    "$$\n",
    "where $s_{\\mathfrak{n}} = E_{\\mathfrak{n}}^{\\star\\,2} = E_{\\mathfrak{n}}^2 - (2\\pi/L)^2\\mathbf{n}_P^2$.\n",
    "In principle, this is a determinant over the infinite-dimensional angular momentum space. However, we may truncate this condition by noting that scattering amplitudes exhibit an angular momentum barrier suppression $\\mathcal{M}_{\\ell}(s) \\sim q^{\\star\\,2\\ell}$. Therefore, in a limited energy region near threshold (where the quantization is well-defined), we may cut the angular momentum at some $\\ell < \\ell_{\\mathrm{max}}$.\n",
    "\n",
    "In the following, we consider a system which is dominated by $S$ wave scattering, that is $\\ell_{\\mathrm{max}}=0$, reducing the determinant condition to a single scalar equation\n",
    "$$\n",
    "\\mathcal{M}^{-1}(s_{\\mathfrak{n}}) + F(E_{\\mathfrak{n}},\\mathbf{P},L) = 0 \\, .\n",
    "$$\n",
    "We may further simplify the expression by pulling the imaginary part from $F$ and $\\mathcal{M}$, yielding a real equation\n",
    "$$\n",
    "\\mathcal{K}^{-1}(E_{\\mathfrak{n}}^{\\star}) + F_{\\mathrm{pv}}(E_{\\mathfrak{n}},\\mathbf{P};L) = 0\n",
    "$$\n",
    "\n",
    "In practical lattice QCD calculations, we obtain the spectrum via the GEVP, and use the condition to constrain the $K$ matrix (or scattering amplitude). Once the $K$ matrix is determined, we can then use our scattering theory to understand the hadronic spectrum. In this notebook, we will do the reverse - We will insert a parameterization for the $K$ matrix, and see how the spectrum reacts to the two-body interactions.\n",
    "\n",
    "### Exercises:\n",
    "\n",
    "1. Show that the imaginary parts of $\\mathcal{M}^{-1}$ and $F$ cancel\n",
    "\n",
    "1. Using the Breit-Wigner and Effective Range parameterizations, investigate the spectrum of an interacting two-particle system."
   ]
  },
  {
   "cell_type": "code",
   "execution_count": 28,
   "metadata": {},
   "outputs": [
    {
     "data": {
      "image/png": "[encoded data removed]",
      "text/plain": [
       "<Figure size 432x288 with 1 Axes>"
      ]
     },
     "metadata": {
      "needs_background": "light"
     },
     "output_type": "display_data"
    },
    {
     "data": {
      "text/plain": [
       "<Figure size 200x100 with 0 Axes>"
      ]
     },
     "metadata": {},
     "output_type": "display_data"
    }
   ],
   "source": [
    "'''\n",
    "Reminding ourselves of the amplitudes\n",
    "'''\n",
    "\n",
    "# General amplitude function\n",
    "def Amplitude( s, Kmatrix ):\n",
    "    K = Kmatrix(s)\n",
    "    rho = phase_space(s)\n",
    "    return K / ( 1.0 - 1j * rho * K )\n",
    "\n",
    "# K-matrix for Breit-Wigner parameterization\n",
    "def Kmatrix_BreitWigner( s, m0, g0 ):\n",
    "    Gamma = g0**2 * m0**2 * q_cm(s) / ( 6.0 * np.pi * s )\n",
    "    tanDelta = np.sqrt( s ) * Gamma / ( m0**2 - s )\n",
    "    rho = phase_space(s)\n",
    "    return tanDelta / rho\n",
    "\n",
    "# K-matrix for 2-parameter Effective Range parameterization\n",
    "def Kmatrix_EffectiveRange( s, a, r ):\n",
    "    qCotDelta = -1.0 / a + 0.5 * r * q_cm( s )**2\n",
    "    return ( 8.0 * np.pi * np.sqrt(s) / xi ) / qCotDelta\n",
    "\n",
    "# Routine to plot amplitude\n",
    "def plot_amplitude( Kmatrix ):\n",
    "    eps = 1e-16                                                 # shift s value slightly above real axis\n",
    "    Ecm_o_m = np.arange(1.5, 2.5, 0.01)                           # array of Ecm / m\n",
    "    amp = Amplitude( Ecm_o_m**2+1j*eps, Kmatrix )\n",
    "    plt.axhline(y=0.0, color='gray', linestyle='-')\n",
    "    plt.plot(Ecm_o_m, amp.real, color='red',label=\"Real\")\n",
    "    plt.plot(Ecm_o_m, amp.imag, color='blue',label=\"Imag\")\n",
    "    plt.xlabel(r'$E^{\\star} / m$',size=15)\n",
    "    plt.ylabel(r'$\\mathcal{M}$',size=15)\n",
    "    plt.xticks(fontname=\"Futura\",fontsize=15)\n",
    "    plt.yticks(fontname=\"Futura\",fontsize=15)\n",
    "    plt.legend(loc=\"upper right\")\n",
    "    plt.figure(figsize=(2,1), dpi= 100, facecolor='w', edgecolor='k')\n",
    "\n",
    "# Sample Effective Range parameters\n",
    "a = 2.0 # /m\n",
    "r = -0.5 # /m\n",
    "\n",
    "# Sample Breit-Wigner parameters\n",
    "m0 = 2.5 # m\n",
    "g0 = 3.0\n",
    "\n",
    "# Plot Breit-Wigner amplitude\n",
    "plot_amplitude( lambda s:Kmatrix_EffectiveRange(s,a,r) )"
   ]
  },
  {
   "cell_type": "code",
   "execution_count": 24,
   "metadata": {
    "tags": []
   },
   "outputs": [
    {
     "data": {
      "image/png": "[encoded data removed]",
      "text/plain": [
       "<Figure size 432x288 with 1 Axes>"
      ]
     },
     "metadata": {
      "needs_background": "light"
     },
     "output_type": "display_data"
    }
   ],
   "source": [
    "'''\n",
    "Luescher Quantization Condition\n",
    "'''\n",
    "\n",
    "# define quantization condition with K matrix input\n",
    "def quantization_condition( Ecm, nP, L, Kmatrix ):\n",
    "    eps = 1e-16\n",
    "    s = Ecm**2 + 1j*eps\n",
    "    Kmat = Kmatrix(s)\n",
    "    Fpv = Fpv_function( Ecm, nP, alpha, L )\n",
    "    return 1.0 / Kmat + Fpv \n",
    "\n",
    "# plot quantization condition\n",
    "def plot_QC(L, nP):\n",
    "    QC_list = []\n",
    "    Kmat = lambda s: Kmatrix_EffectiveRange( s, a, r )\n",
    "    Ecm_o_m_start, Ecm_o_m_stop, Ecm_o_m_step = 1.5, 2.5, 0.001\n",
    "    Ecm_o_m_range = np.arange(Ecm_o_m_start, Ecm_o_m_stop, Ecm_o_m_step)\n",
    "    for Ecm_o_m in Ecm_o_m_range:\n",
    "        QC_list.append(quantization_condition( Ecm_o_m, nP, L, Kmat ))\n",
    "    QC = np.asarray(QC_list)\n",
    "    plt.axhline(y=0, color='gray', linestyle='-') \n",
    "    plt.plot(Ecm_o_m_range, QC.real, color='red',label=\"Real\")\n",
    "    plt.plot(Ecm_o_m_range, QC.imag, color='blue',label=\"Imag\")\n",
    "    plt.xlabel(r'$E^{\\star}/m$',fontsize=15)\n",
    "    plt.ylabel(r'$\\mathcal{K}^{-1} + F_{\\mathrm{pv}}(E,\\mathbf{P},L)$',fontsize=15)\n",
    "    plt.legend(loc=\"upper right\")\n",
    "    plt.ylim(-0.1,0.1)\n",
    "\n",
    "# make plot\n",
    "plot_QC(L,nP)"
   ]
  },
  {
   "cell_type": "code",
   "execution_count": 30,
   "metadata": {},
   "outputs": [
    {
     "name": "stdout",
     "output_type": "stream",
     "text": [
      " \n",
      "looking for candidates\n",
      "found candidate near =  1.7799999999999692\n",
      "found candidate near =  1.999999999999945\n",
      "found candidate near =  2.04299999999994\n",
      "found candidate near =  2.361999999999905\n",
      "found candidate near =  2.4409999999998964\n",
      " \n",
      "looking for roots\n",
      "found root at Ecm =  1.7800397073214511 with |K^{-1}+Fpv| (Ecm_root) =  5.2909122968393013e-17\n",
      "found root at Ecm =  2.0430574318546326 with |K^{-1}+Fpv| (Ecm_root) =  1.0408340933232419e-17\n"
     ]
    },
    {
     "name": "stderr",
     "output_type": "stream",
     "text": [
      "/opt/anaconda3/lib/python3.8/site-packages/scipy/optimize/zeros.py:776: ComplexWarning: Casting complex values to real discards the imaginary part\n",
      "  r = _zeros._brentq(f, a, b, xtol, rtol, maxiter, args, full_output, disp)\n"
     ]
    },
    {
     "name": "stdout",
     "output_type": "stream",
     "text": [
      "found root at Ecm =  2.441130008264673 with |K^{-1}+Fpv| (Ecm_root) =  2.775557687848776e-17\n"
     ]
    }
   ],
   "source": [
    "# steps through a kinematic region to look for roots\n",
    "# if a candidate is found, it is saved\n",
    "# once all candidates all found, it then uses the brent method to search for root\n",
    "def root_stepper_QC( nP, L ):\n",
    "    Ecm_candidate = []\n",
    "    Ecm_spectrum = []\n",
    "    Kmat = lambda s: Kmatrix_EffectiveRange( s, a, r )\n",
    "    QC = lambda Ecm: quantization_condition( Ecm, nP, L, Kmat )\n",
    "    Ecm_o_m_start, Ecm_o_m_stop, Ecm_o_m_step = 1.5, 2.5, 0.001             # May need to play around with step to ensure resolution is good\n",
    "    Ecm_o_m_range = np.arange(Ecm_o_m_start, Ecm_o_m_stop, Ecm_o_m_step)    # however, the smaller Ecm_o_m_step is, the longer it will take\n",
    "    print(' ')\n",
    "    print('looking for candidates')\n",
    "    for Ecm_o_m in Ecm_o_m_range:\n",
    "        x1 = Ecm_o_m\n",
    "        x2 = Ecm_o_m + Ecm_o_m_step\n",
    "        if ( QC(x1) * QC(x2) < 0.0 ):\n",
    "            print('found candidate near = ', x1)\n",
    "            Ecm_candidate.append(x1)\n",
    "\n",
    "    print(' ')\n",
    "    print('looking for roots')\n",
    "    tol = 1e-2  # tolerance parameter to check if zero of asymptote\n",
    "    for Ecm_o_m in Ecm_candidate:\n",
    "        Ecm_spec = optimize.brentq(QC, Ecm_o_m, Ecm_o_m+Ecm_o_m_step)\n",
    "        if ( np.abs(QC(Ecm_spec)) < tol ):\n",
    "            print('found root at Ecm = ', Ecm_spec, 'with |K^{-1}+Fpv| (Ecm_root) = ', np.abs(QC(Ecm_spec)) )\n",
    "            Ecm_spectrum.append(Ecm_spec)\n",
    "\n",
    "    return Ecm_spectrum\n",
    "\n",
    "L = 10.0 # m\n",
    "\n",
    "# save roots found\n",
    "Ecm_EffectiveRange = root_stepper_QC(nP,L)"
   ]
  },
  {
   "cell_type": "code",
   "execution_count": 33,
   "metadata": {},
   "outputs": [
    {
     "data": {
      "image/png": "[encoded data removed]",
      "text/plain": [
       "<Figure size 432x288 with 1 Axes>"
      ]
     },
     "metadata": {
      "needs_background": "light"
     },
     "output_type": "display_data"
    },
    {
     "data": {
      "text/plain": [
       "<Figure size 200x100 with 0 Axes>"
      ]
     },
     "metadata": {},
     "output_type": "display_data"
    }
   ],
   "source": [
    "# Let us check the spectrum\n",
    "L = 10.0\n",
    "def plot_interacting_spectrum( nP ):\n",
    "    L_min, L_max, L_step = 6.0, 12.0, 0.1    # / m\n",
    "    L_list = np.arange(L_min,L_max,L_step)\n",
    "    spectrum = get_spectrum_data(nP,Ecm_max,L_list)\n",
    "    plt.axhline(y=2.0*m, color='gray', linestyle='--') # threshold energy\n",
    "    for spec in spectrum:\n",
    "        plt.plot(spec[0],spec[1],color=\"blue\",linewidth=2) # plot each energy level (spec[1]) as a function of L (spec[0])    \n",
    "    plt.plot([L]*len(Ecm_EffectiveRange),Ecm_EffectiveRange,'ro')\n",
    "    plt.title(str(nP))\n",
    "    plt.xlabel(r'$mL$',size=15) \n",
    "    plt.ylabel(r'$E^{\\star}/m$',size=15)\n",
    "    plt.figure(figsize=(2,1), dpi= 100, facecolor='w', edgecolor='k')\n",
    "\n",
    "plot_interacting_spectrum( nP )"
   ]
  },
  {
   "cell_type": "code",
   "execution_count": 34,
   "metadata": {},
   "outputs": [
    {
     "name": "stdout",
     "output_type": "stream",
     "text": [
      " \n",
      "looking for candidates\n",
      "found candidate near =  1.999999999999945\n",
      " \n",
      "looking for roots\n",
      " \n",
      "looking for candidates\n"
     ]
    },
    {
     "name": "stderr",
     "output_type": "stream",
     "text": [
      "/opt/anaconda3/lib/python3.8/site-packages/scipy/optimize/zeros.py:776: ComplexWarning: Casting complex values to real discards the imaginary part\n",
      "  r = _zeros._brentq(f, a, b, xtol, rtol, maxiter, args, full_output, disp)\n"
     ]
    },
    {
     "name": "stdout",
     "output_type": "stream",
     "text": [
      "found candidate near =  1.999999999999945\n",
      " \n",
      "looking for roots\n",
      " \n",
      "looking for candidates\n",
      "found candidate near =  1.999999999999945\n",
      " \n",
      "looking for roots\n",
      " \n",
      "looking for candidates\n",
      "found candidate near =  1.999999999999945\n",
      " \n",
      "looking for roots\n",
      " \n",
      "looking for candidates\n",
      "found candidate near =  1.5589999999999935\n",
      "found candidate near =  1.999999999999945\n",
      " \n",
      "looking for roots\n",
      "found root at Ecm =  1.5598108088213667 with |K^{-1}+Fpv| (Ecm_root) =  3.469477479952807e-18\n",
      " \n",
      "looking for candidates\n",
      "found candidate near =  1.6229999999999865\n",
      "found candidate near =  1.999999999999945\n",
      "found candidate near =  2.4149999999998992\n",
      " \n",
      "looking for roots\n",
      "found root at Ecm =  1.62356531896541 with |K^{-1}+Fpv| (Ecm_root) =  5.204224082050209e-18\n",
      "found root at Ecm =  2.415640258852571 with |K^{-1}+Fpv| (Ecm_root) =  8.205242041769569e-16\n",
      " \n",
      "looking for candidates\n",
      "found candidate near =  1.6669999999999816\n",
      "found candidate near =  1.999999999999945\n",
      "found candidate near =  2.3239999999999092\n",
      " \n",
      "looking for roots\n",
      "found root at Ecm =  1.6674167753690263 with |K^{-1}+Fpv| (Ecm_root) =  1.4242079741059471e-15\n",
      "found root at Ecm =  2.324486198928024 with |K^{-1}+Fpv| (Ecm_root) =  6.0715361390376495e-18\n",
      " \n",
      "looking for candidates\n",
      "found candidate near =  1.6979999999999782\n",
      "found candidate near =  1.999999999999945\n",
      "found candidate near =  2.254999999999917\n",
      " \n",
      "looking for roots\n",
      "found root at Ecm =  1.698562823246651 with |K^{-1}+Fpv| (Ecm_root) =  6.071642070345155e-18\n",
      "found root at Ecm =  2.255861079344298 with |K^{-1}+Fpv| (Ecm_root) =  7.554720738109151e-16\n",
      " \n",
      "looking for candidates\n",
      "found candidate near =  1.7209999999999757\n",
      "found candidate near =  1.999999999999945\n",
      "found candidate near =  2.2029999999999226\n",
      " \n",
      "looking for roots\n",
      "found root at Ecm =  1.7211541988423078 with |K^{-1}+Fpv| (Ecm_root) =  6.297046231704586e-16\n",
      "found root at Ecm =  2.203548675258084 with |K^{-1}+Fpv| (Ecm_root) =  3.4408240146035886e-15\n",
      " \n",
      "looking for candidates\n",
      "found candidate near =  1.736999999999974\n",
      "found candidate near =  1.999999999999945\n",
      "found candidate near =  2.162999999999927\n",
      " \n",
      "looking for roots\n",
      "found root at Ecm =  1.7377625829683452 with |K^{-1}+Fpv| (Ecm_root) =  4.337061294011704e-18\n",
      "found root at Ecm =  2.1632650318829274 with |K^{-1}+Fpv| (Ecm_root) =  4.1742476568123505e-21\n",
      " \n",
      "looking for candidates\n",
      "found candidate near =  1.7499999999999725\n",
      "found candidate near =  1.999999999999945\n",
      "found candidate near =  2.1309999999999305\n",
      " \n",
      "looking for roots\n",
      "found root at Ecm =  1.7500736014527827 with |K^{-1}+Fpv| (Ecm_root) =  2.142383554797643e-16\n",
      "found root at Ecm =  2.1319803740280836 with |K^{-1}+Fpv| (Ecm_root) =  2.6541269184751073e-16\n",
      " \n",
      "looking for candidates\n",
      "found candidate near =  1.7589999999999715\n",
      "found candidate near =  1.999999999999945\n",
      "found candidate near =  2.106999999999933\n",
      " \n",
      "looking for roots\n",
      "found root at Ecm =  1.759242400245049 with |K^{-1}+Fpv| (Ecm_root) =  1.6106907484209646e-15\n",
      "found root at Ecm =  2.1075048111432038 with |K^{-1}+Fpv| (Ecm_root) =  1.30104264003777e-17\n",
      " \n",
      "looking for candidates\n",
      "found candidate near =  1.7659999999999707\n",
      "found candidate near =  1.999999999999945\n",
      "found candidate near =  2.0879999999999352\n",
      " \n",
      "looking for roots\n",
      "found root at Ecm =  1.7660879238688658 with |K^{-1}+Fpv| (Ecm_root) =  3.0357661433070296e-16\n",
      "found root at Ecm =  2.088227233707784 with |K^{-1}+Fpv| (Ecm_root) =  8.673617729457868e-18\n"
     ]
    }
   ],
   "source": [
    "# Let's look at L dependence (this takes a little while)\n",
    "\n",
    "Ecm_EffectiveRange_L = []\n",
    "L_int = [2,2.5,3,3.5,4,4.5,5,5.5,6,6.5,7,7.5,8]\n",
    "for L in L_int:\n",
    "    Ecm_EffectiveRange_L.append(root_stepper_QC(nP,L))\n",
    "\n"
   ]
  },
  {
   "cell_type": "code",
   "execution_count": 36,
   "metadata": {},
   "outputs": [
    {
     "data": {
      "image/png": "[encoded data removed]",
      "text/plain": [
       "<Figure size 432x288 with 1 Axes>"
      ]
     },
     "metadata": {
      "needs_background": "light"
     },
     "output_type": "display_data"
    },
    {
     "data": {
      "text/plain": [
       "<Figure size 200x100 with 0 Axes>"
      ]
     },
     "metadata": {},
     "output_type": "display_data"
    }
   ],
   "source": [
    "# Let us check the spectrum\n",
    "def plot_interacting_spectrum_L( nP ):\n",
    "    L_min, L_max, L_step = 2.0, 8.0, 0.1    # / m\n",
    "    L_list = np.arange(L_min,L_max,L_step)\n",
    "    spectrum = get_spectrum_data(nP,Ecm_max,L_list)\n",
    "    plt.axhline(y=2.0*m, color='gray', linestyle='--') # threshold energy\n",
    "    for spec in spectrum:\n",
    "        plt.plot(spec[0],spec[1],color=\"blue\",linewidth=2) # plot each energy level (spec[1]) as a function of L (spec[0])  \n",
    "    for i,L in enumerate(L_int):  \n",
    "        plt.plot([L]*len(Ecm_EffectiveRange_L[i]),Ecm_EffectiveRange_L[i],'ro')\n",
    "    plt.title(str(nP))\n",
    "    plt.xlabel(r'$mL$',size=15) \n",
    "    plt.ylabel(r'$E^{\\star}/m$',size=15)\n",
    "    plt.figure(figsize=(2,1), dpi= 100, facecolor='w', edgecolor='k')\n",
    "\n",
    "plot_interacting_spectrum_L( nP )"
   ]
  },
  {
   "cell_type": "code",
   "execution_count": null,
   "metadata": {},
   "outputs": [],
   "source": []
  },
  {
   "cell_type": "code",
   "execution_count": null,
   "metadata": {},
   "outputs": [],
   "source": []
  }
 ],
 "metadata": {
  "interpreter": {
   "hash": "73be0dffc9ddb7543f0e1759fb9f1e44064c10d46fb6fdc59ff487bc5f552366"
  },
  "kernelspec": {
   "display_name": "Python 3.7.5 64-bit ('python3': conda)",
   "name": "python3"
  },
  "language_info": {
   "codemirror_mode": {
    "name": "ipython",
    "version": 3
   },
   "file_extension": ".py",
   "mimetype": "text/x-python",
   "name": "python",
   "nbconvert_exporter": "python",
   "pygments_lexer": "ipython3",
   "version": "3.8.8"
  },
  "orig_nbformat": 2
 },
 "nbformat": 4,
 "nbformat_minor": 2
}
